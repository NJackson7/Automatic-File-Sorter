{
 "cells": [
  {
   "cell_type": "code",
   "execution_count": 1,
   "id": "2757db2a",
   "metadata": {},
   "outputs": [],
   "source": [
    "import os,shutil"
   ]
  },
  {
   "cell_type": "code",
   "execution_count": null,
   "id": "09b1833b",
   "metadata": {},
   "outputs": [],
   "source": [
    "path = \"/home/who/Downloads/\""
   ]
  },
  {
   "cell_type": "code",
   "execution_count": null,
   "id": "3d23ef9b",
   "metadata": {},
   "outputs": [],
   "source": [
    "file_names = os.listdir(path)"
   ]
  },
  {
   "cell_type": "code",
   "execution_count": null,
   "id": "179b916c",
   "metadata": {},
   "outputs": [],
   "source": [
    "setOfExt = {\"csv\"}\n",
    "for file in file_names:\n",
    "    ext = file.partition('.')\n",
    "    setOfExt.add(ext[2]) \n",
    "setOfExt.remove(\"\")"
   ]
  },
  {
   "cell_type": "code",
   "execution_count": null,
   "id": "57f5231f",
   "metadata": {},
   "outputs": [],
   "source": [
    "for ext in setOfExt:\n",
    "    if not os.path.exists(path + ext +  \"_files/\"):\n",
    "        os.makedirs(path + ext +  \"_files/\")"
   ]
  },
  {
   "cell_type": "code",
   "execution_count": null,
   "id": "192294dc",
   "metadata": {},
   "outputs": [],
   "source": [
    "for file in file_names:\n",
    "    ext = file.partition('.')\n",
    "    if ext[2] in setOfExt:\n",
    "        if not os.path.exists(path + ext[2]+  \"_files/\" + file):\n",
    "            shutil.move(path + file,path + ext[2]+  \"_files/\" + file)        "
   ]
  }
 ],
 "metadata": {
  "kernelspec": {
   "display_name": "Python 3 (ipykernel)",
   "language": "python",
   "name": "python3"
  },
  "language_info": {
   "codemirror_mode": {
    "name": "ipython",
    "version": 3
   },
   "file_extension": ".py",
   "mimetype": "text/x-python",
   "name": "python",
   "nbconvert_exporter": "python",
   "pygments_lexer": "ipython3",
   "version": "3.10.12"
  }
 },
 "nbformat": 4,
 "nbformat_minor": 5
}
